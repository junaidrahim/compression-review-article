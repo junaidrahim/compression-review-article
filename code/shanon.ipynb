{
 "cells": [
  {
   "cell_type": "code",
   "execution_count": 134,
   "metadata": {},
   "outputs": [],
   "source": [
    "import math\n",
    "\n",
    "def float_bin(number): \n",
    "    ans = []\n",
    "    d = number\n",
    "    \n",
    "    for i in range(8):\n",
    "        ans.append(str(int(d*2)))\n",
    "        d = math.modf(d*2)[0]\n",
    "        \n",
    "    return ''.join(ans)"
   ]
  },
  {
   "cell_type": "code",
   "execution_count": 135,
   "metadata": {},
   "outputs": [
    {
     "data": {
      "text/plain": [
       "{'s': 0.24,\n",
       " 'o': 0.12,\n",
       " 'e': 0.08,\n",
       " ' ': 0.08,\n",
       " 'a': 0.08,\n",
       " 'l': 0.08,\n",
       " 'i': 0.04,\n",
       " 'd': 0.04,\n",
       " 't': 0.04,\n",
       " 'c': 0.04,\n",
       " 'm': 0.04,\n",
       " 'r': 0.04,\n",
       " 'p': 0.04,\n",
       " 'n': 0.04}"
      ]
     },
     "execution_count": 135,
     "metadata": {},
     "output_type": "execute_result"
    }
   ],
   "source": [
    "d = list(\"lossless data compression\")\n",
    "unique_alphabets = set(d)\n",
    "\n",
    "probabilities = {}\n",
    "\n",
    "for i in unique_alphabets:\n",
    "    probabilities[i] = 0\n",
    "\n",
    "for i in unique_alphabets:\n",
    "    probabilities[i] = d.count(i) / len(d)\n",
    "\n",
    "sorted_probabilities = {letter: prob for letter,prob in sorted(probabilities.items(), key=lambda item: item[1], reverse=True)}\n",
    "sorted_probabilities"
   ]
  },
  {
   "cell_type": "code",
   "execution_count": 136,
   "metadata": {},
   "outputs": [],
   "source": [
    "import math\n",
    "\n",
    "k = list(sorted_probabilities.values())\n",
    "\n",
    "def sum_p(index):\n",
    "    s = 0\n",
    "    for i in range(0,index):\n",
    "        s += k[i]\n",
    "    \n",
    "    return round(s,4)\n",
    "\n",
    "cumulative_p = [sum_p(i) for i in range(0, len([*sorted_probabilities]))]\n",
    "cumulative_p[0] = 0.0\n",
    "binary = [float_bin(x) for x in cumulative_p]\n",
    "\n",
    "code_len = [-math.ceil(math.log2(x)) for x in k]\n",
    "final_code = [binary[x][:code_len[x]] for x in range(len(k))]"
   ]
  },
  {
   "cell_type": "code",
   "execution_count": 139,
   "metadata": {},
   "outputs": [
    {
     "name": "stdout",
     "output_type": "stream",
     "text": [
      "\\begin{tabular}{llrrlrl}\n",
      "\\toprule\n",
      "{} & alphabet &     p &  cumulative\\_p &    binary &  -ceil(log2(p)) &  code \\\\\n",
      "\\midrule\n",
      "0  &        s &  0.24 &          0.00 &  00000000 &               2 &    00 \\\\\n",
      "1  &        o &  0.12 &          0.24 &  00111101 &               3 &   001 \\\\\n",
      "2  &        e &  0.08 &          0.36 &  01011100 &               3 &   010 \\\\\n",
      "3  &          &  0.08 &          0.44 &  01110000 &               3 &   011 \\\\\n",
      "4  &        a &  0.08 &          0.52 &  10000101 &               3 &   100 \\\\\n",
      "5  &        l &  0.08 &          0.60 &  10011001 &               3 &   100 \\\\\n",
      "6  &        i &  0.04 &          0.68 &  10101110 &               4 &  1010 \\\\\n",
      "7  &        d &  0.04 &          0.72 &  10111000 &               4 &  1011 \\\\\n",
      "8  &        t &  0.04 &          0.76 &  11000010 &               4 &  1100 \\\\\n",
      "9  &        c &  0.04 &          0.80 &  11001100 &               4 &  1100 \\\\\n",
      "10 &        m &  0.04 &          0.84 &  11010111 &               4 &  1101 \\\\\n",
      "11 &        r &  0.04 &          0.88 &  11100001 &               4 &  1110 \\\\\n",
      "12 &        p &  0.04 &          0.92 &  11101011 &               4 &  1110 \\\\\n",
      "13 &        n &  0.04 &          0.96 &  11110101 &               4 &  1111 \\\\\n",
      "\\bottomrule\n",
      "\\end{tabular}\n",
      "\n"
     ]
    }
   ],
   "source": [
    "import pandas as pd\n",
    "      \n",
    "t = pd.DataFrame({'alphabet':[*sorted_probabilities], 'p':list(sorted_probabilities.values())})\n",
    "t['cumulative_p'] = cumulative_p\n",
    "t['binary'] = binary\n",
    "t['-ceil(log2(p))'] = code_len\n",
    "t['code'] = final_code\n",
    "print(t.to_latex())"
   ]
  },
  {
   "cell_type": "code",
   "execution_count": null,
   "metadata": {},
   "outputs": [],
   "source": []
  }
 ],
 "metadata": {
  "kernelspec": {
   "display_name": "Python 3",
   "language": "python",
   "name": "python3"
  },
  "language_info": {
   "codemirror_mode": {
    "name": "ipython",
    "version": 3
   },
   "file_extension": ".py",
   "mimetype": "text/x-python",
   "name": "python",
   "nbconvert_exporter": "python",
   "pygments_lexer": "ipython3",
   "version": "3.7.3"
  }
 },
 "nbformat": 4,
 "nbformat_minor": 2
}
