{
 "cells": [
  {
   "cell_type": "code",
   "execution_count": 1,
   "metadata": {},
   "outputs": [],
   "source": [
    "def float_bin(number, places = 6): \n",
    "    whole, dec = str(number).split(\".\") \n",
    "\n",
    "    whole = int(whole) \n",
    "    dec = int (dec) \n",
    "  \n",
    "    res = bin(whole).lstrip(\"0b\") + \".\"\n",
    "\n",
    "    for x in range(places): \n",
    "        whole, dec = str((decimal_converter(dec)) * 2).split(\".\") \n",
    "        dec = int(dec) \n",
    "        res += whole   \n",
    "    return res \n",
    "  \n",
    "def decimal_converter(num):  \n",
    "    while num > 1: \n",
    "        num /= 10\n",
    "    return num "
   ]
  },
  {
   "cell_type": "code",
   "execution_count": 3,
   "metadata": {},
   "outputs": [
    {
     "data": {
      "text/plain": [
       "{'i': 0.04,\n",
       " 'd': 0.04,\n",
       " 't': 0.04,\n",
       " 'c': 0.04,\n",
       " 'm': 0.04,\n",
       " 'r': 0.04,\n",
       " 'p': 0.04,\n",
       " 'n': 0.04,\n",
       " 'e': 0.08,\n",
       " ' ': 0.08,\n",
       " 'a': 0.08,\n",
       " 'l': 0.08,\n",
       " 'o': 0.12,\n",
       " 's': 0.24}"
      ]
     },
     "execution_count": 3,
     "metadata": {},
     "output_type": "execute_result"
    }
   ],
   "source": [
    "\n",
    "d = list(\"lossless data compression\")\n",
    "unique_alphabets = set(d)\n",
    "\n",
    "probabilities = {}\n",
    "\n",
    "for i in unique_alphabets:\n",
    "    probabilities[i] = 0\n",
    "\n",
    "for i in unique_alphabets:\n",
    "    probabilities[i] = d.count(i) / len(d)\n",
    "\n",
    "sorted_probabilities = {letter: prob for letter,prob in sorted(probabilities.items(), key=lambda item: item[1])}\n",
    "sorted_probabilities"
   ]
  },
  {
   "cell_type": "code",
   "execution_count": null,
   "metadata": {},
   "outputs": [],
   "source": []
  }
 ],
 "metadata": {
  "kernelspec": {
   "display_name": "Python 3",
   "language": "python",
   "name": "python3"
  },
  "language_info": {
   "codemirror_mode": {
    "name": "ipython",
    "version": 3
   },
   "file_extension": ".py",
   "mimetype": "text/x-python",
   "name": "python",
   "nbconvert_exporter": "python",
   "pygments_lexer": "ipython3",
   "version": "3.7.3"
  }
 },
 "nbformat": 4,
 "nbformat_minor": 2
}
